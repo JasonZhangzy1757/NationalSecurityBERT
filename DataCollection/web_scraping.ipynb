{
 "cells": [
  {
   "cell_type": "code",
   "execution_count": 28,
   "id": "f1f5d455-b6ec-40f9-9ad5-14e9b26e8e10",
   "metadata": {},
   "outputs": [],
   "source": [
    "from selenium import webdriver\n",
    "from webdriver_manager.chrome import ChromeDriverManager\n",
    "from requests_html import HTMLSession\n",
    "import time\n",
    "import asyncio\n",
    "import aiohttp\n",
    "import aiofiles\n",
    "import os"
   ]
  },
  {
   "cell_type": "code",
   "execution_count": 29,
   "id": "e2bf7eea-d749-42b2-bd7c-d2c9fd734495",
   "metadata": {},
   "outputs": [
    {
     "name": "stderr",
     "output_type": "stream",
     "text": [
      "\n",
      "\n",
      "====== WebDriver manager ======\n",
      "Current google-chrome version is 99.0.4844\n",
      "Get LATEST chromedriver version for 99.0.4844 google-chrome\n",
      "There is no [mac64] chromedriver for browser  in cache\n",
      "Trying to download new driver from https://chromedriver.storage.googleapis.com/99.0.4844.51/chromedriver_mac64.zip\n",
      "Driver has been saved in cache [/Users/americanthinker1/.wdm/drivers/chromedriver/mac64/99.0.4844.51]\n"
     ]
    }
   ],
   "source": [
    "browser = webdriver.Chrome(ChromeDriverManager().install())\n",
    "browser.get('https://ndupress.ndu.edu/JFQ/')"
   ]
  },
  {
   "cell_type": "code",
   "execution_count": 2,
   "id": "57b27a00-bbb8-4688-825c-39a546262561",
   "metadata": {},
   "outputs": [],
   "source": [
    "nps = 'https://calhoun.nps.edu/handle/10945/16/discover?search-result=true&query=&current-scope=10945%2F16&filtertype_0=type&filtertype_1=dateIssued&filter_relational_operator_1=equals&filter_relational_operator_0=equals&filter_1=%5B2020+TO+2022%5D&filter_0=Thesis&rpp=100&sort_by=score&order=desc'"
   ]
  },
  {
   "cell_type": "code",
   "execution_count": 30,
   "id": "2d1a177c-bba8-4627-b7c5-91b8fb1d39aa",
   "metadata": {},
   "outputs": [],
   "source": [
    "jfq = 'https://ndupress.ndu.edu/JFQ/'"
   ]
  },
  {
   "cell_type": "code",
   "execution_count": 31,
   "id": "94bee89e-f1cd-42af-b540-3be01f91a52c",
   "metadata": {},
   "outputs": [],
   "source": [
    "session = HTMLSession()"
   ]
  },
  {
   "cell_type": "code",
   "execution_count": 32,
   "id": "9fa14370-6dc5-450c-8d35-7c8d1178f74f",
   "metadata": {},
   "outputs": [],
   "source": [
    "r = session.get(jfq)"
   ]
  },
  {
   "cell_type": "code",
   "execution_count": 33,
   "id": "651a891f-8193-4548-b647-fb44878b3c58",
   "metadata": {},
   "outputs": [],
   "source": [
    "raw_links = r.html.absolute_links"
   ]
  },
  {
   "cell_type": "code",
   "execution_count": 53,
   "id": "357740a5-f32c-4b7e-b60b-7538faff92d9",
   "metadata": {},
   "outputs": [
    {
     "data": {
      "text/plain": [
       "(61, 42)"
      ]
     },
     "execution_count": 53,
     "metadata": {},
     "output_type": "execute_result"
    }
   ],
   "source": [
    "pdf_links = [x for x in raw_links if x.endswith('pdf')]\n",
    "aspx_links = [x for x in raw_links if x.endswith('aspx')]\n",
    "aspx_links = [x for x in aspx_links if x.startswith('https://ndupress.ndu.edu/JFQ/Joint')]\n",
    "len(pdf_links), len(aspx_links)"
   ]
  },
  {
   "cell_type": "code",
   "execution_count": 51,
   "id": "ae6726c4-bc2c-4ca3-ad8c-2dc632c740db",
   "metadata": {},
   "outputs": [],
   "source": []
  },
  {
   "cell_type": "code",
   "execution_count": 42,
   "id": "205ecef2-bcc1-4a5a-9efc-e7d9597276c4",
   "metadata": {},
   "outputs": [],
   "source": [
    "import os"
   ]
  },
  {
   "cell_type": "code",
   "execution_count": null,
   "id": "db631826-da3c-4ca7-b8bb-4b660b6f3589",
   "metadata": {},
   "outputs": [],
   "source": [
    "os.mkdir()"
   ]
  }
 ],
 "metadata": {
  "kernelspec": {
   "display_name": "Python 3",
   "language": "python",
   "name": "python3"
  },
  "language_info": {
   "codemirror_mode": {
    "name": "ipython",
    "version": 3
   },
   "file_extension": ".py",
   "mimetype": "text/x-python",
   "name": "python",
   "nbconvert_exporter": "python",
   "pygments_lexer": "ipython3",
   "version": "3.8.5"
  }
 },
 "nbformat": 4,
 "nbformat_minor": 5
}
