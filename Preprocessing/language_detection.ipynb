{
 "cells": [
  {
   "cell_type": "code",
   "execution_count": 15,
   "id": "e80df5cb-975c-40b8-9e1d-55412c225d08",
   "metadata": {},
   "outputs": [],
   "source": [
    "import fasttext\n",
    "from collections import defaultdict"
   ]
  },
  {
   "cell_type": "code",
   "execution_count": 3,
   "id": "6993b77d-3d99-47f3-9502-33f14cf2e735",
   "metadata": {},
   "outputs": [
    {
     "name": "stderr",
     "output_type": "stream",
     "text": [
      "Warning : `load_model` does not return WordVectorModel or SupervisedModel any more, but a `FastText` object which is very similar.\n"
     ]
    }
   ],
   "source": [
    "path_to_pretrained_model = '/Users/americanthinker1/aws_data/lid.176.bin'\n",
    "fmodel = fasttext.load_model(path_to_pretrained_model)"
   ]
  },
  {
   "cell_type": "code",
   "execution_count": 4,
   "id": "6b82365d-641a-4bb5-9d36-8f4a4f44d611",
   "metadata": {},
   "outputs": [],
   "source": [
    "with open('processed_data/processed_chunks/aa.txt') as f:\n",
    "    docs = [line for line in f.readlines()]"
   ]
  },
  {
   "cell_type": "code",
   "execution_count": 31,
   "id": "f5ddbfc8-e4ac-40a4-9288-a566f376e605",
   "metadata": {},
   "outputs": [],
   "source": [
    "%%capture\n",
    "non_english = defaultdict(list)\n",
    "\n",
    "with open('english_test.txt', 'a') as w:\n",
    "    for doc in docs:\n",
    "        label = fmodel.predict(doc.replace('\\n', ' '))[0][0][9:]\n",
    "        if label == 'en' and len(doc) >= 1000:\n",
    "            w.write(doc.strip())\n",
    "            w.write('\\n')\n",
    "        else:\n",
    "            non_english[label].append(doc)"
   ]
  },
  {
   "cell_type": "code",
   "execution_count": 32,
   "id": "5cf1f572-9368-47a9-bf30-7d2a84b50488",
   "metadata": {},
   "outputs": [
    {
     "data": {
      "text/plain": [
       "dict_keys(['en', 'fr', 'pt', 'zh', 'de', 'ru', 'es', 'cs', 'it'])"
      ]
     },
     "execution_count": 32,
     "metadata": {},
     "output_type": "execute_result"
    }
   ],
   "source": [
    "non_english.keys()"
   ]
  },
  {
   "cell_type": "code",
   "execution_count": 33,
   "id": "d0488407-4f10-4cdc-8fff-38c52828ba2e",
   "metadata": {},
   "outputs": [
    {
     "data": {
      "text/plain": [
       "[828, 195, 10, 78, 13, 1, 9, 2, 2]"
      ]
     },
     "execution_count": 33,
     "metadata": {},
     "output_type": "execute_result"
    }
   ],
   "source": [
    "list(map(len, non_english.values()))"
   ]
  },
  {
   "cell_type": "code",
   "execution_count": null,
   "id": "f004194a-c8ff-4451-88d0-83445d34e603",
   "metadata": {},
   "outputs": [],
   "source": []
  }
 ],
 "metadata": {
  "kernelspec": {
   "display_name": "Python 3",
   "language": "python",
   "name": "python3"
  },
  "language_info": {
   "codemirror_mode": {
    "name": "ipython",
    "version": 3
   },
   "file_extension": ".py",
   "mimetype": "text/x-python",
   "name": "python",
   "nbconvert_exporter": "python",
   "pygments_lexer": "ipython3",
   "version": "3.8.5"
  }
 },
 "nbformat": 4,
 "nbformat_minor": 5
}
