{
 "cells": [
  {
   "cell_type": "code",
   "execution_count": 11,
   "id": "a3085cd4-fec7-45a1-9aa9-6e8a43b50362",
   "metadata": {},
   "outputs": [
    {
     "name": "stdout",
     "output_type": "stream",
     "text": [
      "The autoreload extension is already loaded. To reload it, use:\n",
      "  %reload_ext autoreload\n"
     ]
    }
   ],
   "source": [
    "#fitz is the python bindings for muPDF\n",
    "%load_ext autoreload\n",
    "%autoreload 2\n",
    "\n",
    "from PDF_processor import process_all_folders, process_single_folder"
   ]
  },
  {
   "cell_type": "code",
   "execution_count": 16,
   "id": "b26457f0-b905-4c7b-8ebe-0765e03539b4",
   "metadata": {},
   "outputs": [
    {
     "name": "stdout",
     "output_type": "stream",
     "text": [
      "Processing 21 files from the following folder: Misc_PDF_reports\n",
      "Total processing time for 21 files: 0.1 minutes\n"
     ]
    }
   ],
   "source": [
    "pdf_dicts = process_single_folder(\"Misc_PDF_reports\")"
   ]
  },
  {
   "cell_type": "code",
   "execution_count": 18,
   "id": "1bf119d5-89c1-4576-a87c-d6c77ce9a594",
   "metadata": {},
   "outputs": [],
   "source": [
    "content = [d['content'].replace('/n', ' ').replace('  ', ' ') for d in pdf_dicts]\n",
    "text = ' '.join(content)"
   ]
  },
  {
   "cell_type": "code",
   "execution_count": 17,
   "id": "c7cf0bbc-f675-4225-986b-5ab118f9c46f",
   "metadata": {},
   "outputs": [
    {
     "name": "stdout",
     "output_type": "stream",
     "text": [
      "/Users/americanthinker1/NationalSecurityBERT/Preprocesing\n"
     ]
    }
   ],
   "source": [
    "cd /Users/americanthinker1/NationalSecurityBERT/Preprocesing/"
   ]
  },
  {
   "cell_type": "code",
   "execution_count": 19,
   "id": "62745002-c1aa-4751-a770-2bca8f7d356b",
   "metadata": {},
   "outputs": [
    {
     "data": {
      "text/plain": [
       "8539782"
      ]
     },
     "execution_count": 19,
     "metadata": {},
     "output_type": "execute_result"
    }
   ],
   "source": [
    "with open('size_count.txt', 'w') as f:\n",
    "    f.write(text)"
   ]
  },
  {
   "cell_type": "code",
   "execution_count": 20,
   "id": "c8c2229f-9820-47bd-989c-1175a17878f0",
   "metadata": {},
   "outputs": [
    {
     "name": "stdout",
     "output_type": "stream",
     "text": [
      "8.8M\t.\n"
     ]
    }
   ],
   "source": [
    "!du -sh"
   ]
  },
  {
   "cell_type": "code",
   "execution_count": null,
   "id": "72fc0d14-a747-45f6-a77d-f5adb4eef79f",
   "metadata": {},
   "outputs": [],
   "source": []
  }
 ],
 "metadata": {
  "kernelspec": {
   "display_name": "Python 3",
   "language": "python",
   "name": "python3"
  },
  "language_info": {
   "codemirror_mode": {
    "name": "ipython",
    "version": 3
   },
   "file_extension": ".py",
   "mimetype": "text/x-python",
   "name": "python",
   "nbconvert_exporter": "python",
   "pygments_lexer": "ipython3",
   "version": "3.8.5"
  }
 },
 "nbformat": 4,
 "nbformat_minor": 5
}
