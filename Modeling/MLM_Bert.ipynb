{
 "cells": [
  {
   "cell_type": "code",
   "execution_count": 66,
   "id": "494fc40d-0386-4b40-9ac6-1584957f4ebd",
   "metadata": {},
   "outputs": [],
   "source": [
    "from transformers import BertTokenizer, DataCollatorForWholeWordMask\n",
    "import torch"
   ]
  },
  {
   "cell_type": "code",
   "execution_count": 96,
   "id": "c6d793b3-6694-4ab6-b76e-1c31718f3317",
   "metadata": {},
   "outputs": [],
   "source": [
    "tok = BertTokenizer.from_pretrained('/Users/americanthinker1/NationalSecurityBERT/Preprocessing/Tokenization/wp-vocab-30500-vocab.txt', \n",
    "                                    return_special_tokens_mask=True, \n",
    "                                    max_len=512)"
   ]
  },
  {
   "cell_type": "code",
   "execution_count": 97,
   "id": "f23d3e2f-b515-4bc3-9dd2-e7d2a87f5b66",
   "metadata": {},
   "outputs": [],
   "source": [
    "data = '/Users/americanthinker1/aws_data/processed_data/processed_chunks/english_docs_aa.txt'"
   ]
  },
  {
   "cell_type": "code",
   "execution_count": 10,
   "id": "d281be78-5151-4a57-ad42-5b5aee8f2fee",
   "metadata": {},
   "outputs": [],
   "source": [
    "with open(data) as f:\n",
    "    lines = [line for line in f.read().splitlines()]"
   ]
  },
  {
   "cell_type": "code",
   "execution_count": 29,
   "id": "d9e06534-38b8-423c-a6fc-402ce3f38f1f",
   "metadata": {
    "jupyter": {
     "source_hidden": true
    },
    "tags": []
   },
   "outputs": [],
   "source": [
    "text = ' '.join(' '.join(lines[0].split()[:512]).split('.')[:-1]).strip()"
   ]
  },
  {
   "cell_type": "code",
   "execution_count": 160,
   "id": "b24e3581-9eff-4484-814a-4db7afc5316e",
   "metadata": {},
   "outputs": [],
   "source": [
    "batch = tok(lines[:10], \n",
    "            max_length=512, \n",
    "            padding='max_length', \n",
    "            truncation=True, \n",
    "            return_token_type_ids=False,\n",
    "            return_tensors='pt')"
   ]
  },
  {
   "cell_type": "code",
   "execution_count": 180,
   "id": "49b6659f-e023-4cdb-87ba-586a69f93e40",
   "metadata": {},
   "outputs": [],
   "source": [
    "def mlm_pipe(batch: object, mlm_prob=0.15) -> dict:\n",
    "    '''\n",
    "    Given a batch of encodings, return masked inputs and associated arrays.\n",
    "    '''\n",
    "    \n",
    "    labels = batch.input_ids\n",
    "    mask = batch.attention_mask\n",
    "    input_ids = labels.detach().clone()\n",
    "    \n",
    "    #default masking prob = 15%, don't mask special tokens \n",
    "    mask_arr = (rand < mlm_prob) * (input_ids > 4)\n",
    "    for i in range(input_ids.shape[0]):\n",
    "        selection = torch.flatten(mask_arr[i].nonzero()).tolist()\n",
    "        input_ids[i, selection] = 4\n",
    "    encodings = {'input_ids': input_ids, 'attention_mask': mask, 'labels': labels}\n",
    "    return encodings"
   ]
  },
  {
   "cell_type": "code",
   "execution_count": 181,
   "id": "4bc91879-dffc-4103-9358-aed6e248862f",
   "metadata": {},
   "outputs": [],
   "source": [
    "encs = mlm_pipe(batch)"
   ]
  },
  {
   "cell_type": "code",
   "execution_count": 186,
   "id": "2baae0cd-f767-438c-87fd-aa2b7da3c423",
   "metadata": {},
   "outputs": [],
   "source": [
    "class Dataset(torch.utils.data.Dataset):\n",
    "    def __init__(self, encodings):\n",
    "        self.encodings = encodings\n",
    "        \n",
    "    def __len__(self):\n",
    "        return self.encodings['input_ids'].shape[0]\n",
    "    \n",
    "    def __getitem__(self, i):\n",
    "        return {key : tensor[i] for key, tensor in self.encodings.items()}"
   ]
  },
  {
   "cell_type": "code",
   "execution_count": 199,
   "id": "745683a2-fb73-4805-a5bd-1cee5bcf47e9",
   "metadata": {},
   "outputs": [],
   "source": [
    "dataset = Dataset(encs)"
   ]
  },
  {
   "cell_type": "code",
   "execution_count": 204,
   "id": "73a1ed71-47e7-43b2-9d3a-63985fce024e",
   "metadata": {},
   "outputs": [],
   "source": [
    "loader = torch.utils.data.DataLoader(dataset, batch_size=32, pin_memory=True, shuffle=True)"
   ]
  },
  {
   "cell_type": "code",
   "execution_count": 207,
   "id": "bdda960e-e9a8-4255-ad71-2440d8c07024",
   "metadata": {},
   "outputs": [],
   "source": [
    "from transformers import BertConfig"
   ]
  },
  {
   "cell_type": "code",
   "execution_count": 212,
   "id": "d79ee7a9-0c6c-4fcc-b6ea-1831cc4147b0",
   "metadata": {},
   "outputs": [],
   "source": [
    "config = BertConfig(\n",
    "        vocab_size=tok.vocab_size\n",
    "    )"
   ]
  },
  {
   "cell_type": "code",
   "execution_count": 213,
   "id": "b754293d-afb7-46fe-aef4-79eefedf587d",
   "metadata": {},
   "outputs": [],
   "source": [
    "from transformers import BertForMaskedLM\n",
    "model = BertForMaskedLM(config)"
   ]
  },
  {
   "cell_type": "code",
   "execution_count": null,
   "id": "32ab6a60-7a4a-4ded-ac7c-dcdd0256ebe1",
   "metadata": {},
   "outputs": [],
   "source": []
  }
 ],
 "metadata": {
  "kernelspec": {
   "display_name": "Python 3",
   "language": "python",
   "name": "python3"
  },
  "language_info": {
   "codemirror_mode": {
    "name": "ipython",
    "version": 3
   },
   "file_extension": ".py",
   "mimetype": "text/x-python",
   "name": "python",
   "nbconvert_exporter": "python",
   "pygments_lexer": "ipython3",
   "version": "3.8.5"
  }
 },
 "nbformat": 4,
 "nbformat_minor": 5
}
