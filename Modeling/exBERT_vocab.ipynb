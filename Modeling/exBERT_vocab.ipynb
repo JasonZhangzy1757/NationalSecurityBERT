{
 "cells": [
  {
   "cell_type": "code",
   "execution_count": 2,
   "id": "b3c41e28-522b-4530-99cb-9959d3cdcc19",
   "metadata": {},
   "outputs": [],
   "source": [
    "import pickle"
   ]
  },
  {
   "cell_type": "code",
   "execution_count": 3,
   "id": "2d09e843-dba6-4a15-808c-79f87c8b78af",
   "metadata": {},
   "outputs": [],
   "source": [
    "with open('example_data.pkl', 'rb') as f:\n",
    "    data = pickle.load(f)"
   ]
  },
  {
   "cell_type": "code",
   "execution_count": 4,
   "id": "1b2606d9-098c-466e-a895-51a8c6f8db6b",
   "metadata": {},
   "outputs": [
    {
     "data": {
      "text/plain": [
       "2"
      ]
     },
     "execution_count": 4,
     "metadata": {},
     "output_type": "execute_result"
    }
   ],
   "source": [
    "len(data)"
   ]
  },
  {
   "cell_type": "code",
   "execution_count": 5,
   "id": "30370ecf-c6d5-4837-8219-7e4b9a7bbd7d",
   "metadata": {},
   "outputs": [
    {
     "data": {
      "text/plain": [
       "[2034, 2034]"
      ]
     },
     "execution_count": 5,
     "metadata": {},
     "output_type": "execute_result"
    }
   ],
   "source": [
    "list(map(len, data))"
   ]
  },
  {
   "cell_type": "code",
   "execution_count": 6,
   "id": "6de47dbc-2260-4df7-b8fa-186dc6542322",
   "metadata": {},
   "outputs": [],
   "source": [
    "sentences = data[0]"
   ]
  },
  {
   "cell_type": "code",
   "execution_count": 7,
   "id": "81c66bba-74bd-422d-9b2a-707e8fbe39ab",
   "metadata": {},
   "outputs": [
    {
     "data": {
      "text/plain": [
       "'[CLS]  Patients were required to have a Society of Thoracic Surgeons (STS) predicted risk of mortality of at least 8% or another indicator of high or extreme risk. Agreement by the local heart team (including an interventional cardiologist and a cardiac surgeon) regarding risk and suitability for TAVR was required. [SEP]  An aortic annulus size of 20 mm or larger and 27 mm or smaller (based on computed tomography) and eligibility for an available size of both valves were required. All patients were reviewed by the REPRISE III Case Review Committee to confirm eligibility. Additional inclusion and exclusion criteria are provided in eTables 3 and 4 in Supplement 1. [SEP]'"
      ]
     },
     "execution_count": 7,
     "metadata": {},
     "output_type": "execute_result"
    }
   ],
   "source": [
    "sentences[0]"
   ]
  },
  {
   "cell_type": "code",
   "execution_count": null,
   "id": "798fe3c4-6030-4594-a473-dbb95c2525bd",
   "metadata": {},
   "outputs": [],
   "source": []
  }
 ],
 "metadata": {
  "kernelspec": {
   "display_name": "Python 3",
   "language": "python",
   "name": "python3"
  },
  "language_info": {
   "codemirror_mode": {
    "name": "ipython",
    "version": 3
   },
   "file_extension": ".py",
   "mimetype": "text/x-python",
   "name": "python",
   "nbconvert_exporter": "python",
   "pygments_lexer": "ipython3",
   "version": "3.8.5"
  }
 },
 "nbformat": 4,
 "nbformat_minor": 5
}
