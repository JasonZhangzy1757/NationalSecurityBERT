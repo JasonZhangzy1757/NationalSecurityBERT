{
 "cells": [
  {
   "cell_type": "code",
   "execution_count": 1,
   "id": "87906d75-8b58-42ca-9375-4983f846c987",
   "metadata": {},
   "outputs": [],
   "source": [
    "#fitz is the python bindings for muPDF\n",
    "%load_ext autoreload\n",
    "%autoreload 2\n",
    "\n",
    "import fitz\n",
    "import os\n",
    "import json\n",
    "import magic\n",
    "import time\n",
    "import shutil\n",
    "import pandas as pd\n",
    "import numpy as np\n",
    "from collections import defaultdict\n",
    "from pathlib import Path"
   ]
  },
  {
   "cell_type": "code",
   "execution_count": 2,
   "id": "3ce99f99-114c-4f11-b650-31115e4bd2d2",
   "metadata": {},
   "outputs": [],
   "source": [
    "data_dir_path = '/Users/americanthinker1/NationalSecurityBERT/Data/pretraining/Misc_PDF_reports/'"
   ]
  },
  {
   "cell_type": "code",
   "execution_count": 5,
   "id": "929af71b-e78c-4bf3-961a-ce90e73db54d",
   "metadata": {},
   "outputs": [],
   "source": [
    "file = 'DOD_dictionary.pdf'"
   ]
  },
  {
   "cell_type": "code",
   "execution_count": 6,
   "id": "f92256e7-08e4-4c6f-93ca-34156340ba5f",
   "metadata": {},
   "outputs": [],
   "source": [
    "path = os.path.join(data_dir_path, file)"
   ]
  },
  {
   "cell_type": "code",
   "execution_count": 8,
   "id": "922c8fb1-bbb1-4e6a-9e0a-22e78ac15b0c",
   "metadata": {},
   "outputs": [],
   "source": [
    "doc = fitz.open(path)"
   ]
  },
  {
   "cell_type": "code",
   "execution_count": 18,
   "id": "de41f1e0-9c5b-4287-a844-2a2699889fc6",
   "metadata": {},
   "outputs": [],
   "source": [
    "pages = [page.get_text() for page in doc]\n",
    "text = ' '.join(pages)\n",
    "lower_text = text.lower()"
   ]
  },
  {
   "cell_type": "code",
   "execution_count": 19,
   "id": "eac04341-5aed-424f-93b1-f203d7126076",
   "metadata": {},
   "outputs": [],
   "source": [
    "tokens = text.split()\n",
    "lower_tokens = lower_text.split()"
   ]
  },
  {
   "cell_type": "code",
   "execution_count": 20,
   "id": "a8df50c4-e567-42a1-ac08-095425f79ddf",
   "metadata": {},
   "outputs": [],
   "source": [
    "from collections import Counter"
   ]
  },
  {
   "cell_type": "code",
   "execution_count": 21,
   "id": "a15ec6bc-59c7-4377-8177-c4d0709f9956",
   "metadata": {},
   "outputs": [],
   "source": [
    "counts = Counter(tokens)\n",
    "lower_counts = Counter(lower_tokens)"
   ]
  },
  {
   "cell_type": "code",
   "execution_count": 31,
   "id": "2c81c1b4-2541-424f-87a8-3d7b8d64dc3f",
   "metadata": {},
   "outputs": [
    {
     "data": {
      "text/plain": [
       "(15393, 14336)"
      ]
     },
     "execution_count": 31,
     "metadata": {},
     "output_type": "execute_result"
    }
   ],
   "source": [
    "vocab = list(counts.keys())\n",
    "lower_vocab = list(lower_counts.keys())\n",
    "len(vocab), len(lower_vocab)"
   ]
  },
  {
   "cell_type": "code",
   "execution_count": 34,
   "id": "030850a7-be01-4522-8486-1eee5053fa73",
   "metadata": {},
   "outputs": [],
   "source": [
    "import transformers"
   ]
  },
  {
   "cell_type": "code",
   "execution_count": 49,
   "id": "ca8c7667-d831-4171-947b-1be5a831378d",
   "metadata": {},
   "outputs": [],
   "source": [
    "tok = transformers.BertTokenizer.from_pretrained('bert-base-cased')"
   ]
  },
  {
   "cell_type": "code",
   "execution_count": 79,
   "id": "6bdc6d16-b7de-4beb-9b94-888e71f75df7",
   "metadata": {},
   "outputs": [
    {
     "data": {
      "text/plain": [
       "['[CLS]', 'Intelligence', '_', 'Community', '[SEP]']"
      ]
     },
     "execution_count": 79,
     "metadata": {},
     "output_type": "execute_result"
    }
   ],
   "source": [
    "tok.convert_ids_to_tokens(tok('Intelligence_Community')['input_ids'])"
   ]
  },
  {
   "cell_type": "code",
   "execution_count": 71,
   "id": "022f46f8-58b9-4a8c-b4a4-3327784ec2b0",
   "metadata": {},
   "outputs": [
    {
     "data": {
      "text/plain": [
       "27"
      ]
     },
     "execution_count": 71,
     "metadata": {},
     "output_type": "execute_result"
    }
   ],
   "source": [
    "counts['geospatial']"
   ]
  },
  {
   "cell_type": "code",
   "execution_count": null,
   "id": "5fdb9857-7c09-44dd-adf0-6a21504ab46a",
   "metadata": {},
   "outputs": [],
   "source": []
  }
 ],
 "metadata": {
  "kernelspec": {
   "display_name": "Python 3",
   "language": "python",
   "name": "python3"
  },
  "language_info": {
   "codemirror_mode": {
    "name": "ipython",
    "version": 3
   },
   "file_extension": ".py",
   "mimetype": "text/x-python",
   "name": "python",
   "nbconvert_exporter": "python",
   "pygments_lexer": "ipython3",
   "version": "3.8.5"
  }
 },
 "nbformat": 4,
 "nbformat_minor": 5
}
