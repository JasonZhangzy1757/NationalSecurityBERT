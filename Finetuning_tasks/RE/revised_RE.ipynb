{
 "cells": [
  {
   "cell_type": "code",
   "execution_count": 2,
   "metadata": {
    "id": "UP_o6WUTwZYT"
   },
   "outputs": [],
   "source": [
    "import pandas as pd\n",
    "import numpy as np\n",
    "import torch.nn as nn\n",
    "import torch\n",
    "from torch.nn.parallel import DataParallel\n",
    "import transformers\n",
    "from transformers import AdamW, get_linear_schedule_with_warmup\n",
    "import json\n",
    "import os\n",
    "from transformers import BertTokenizer"
   ]
  },
  {
   "cell_type": "code",
   "execution_count": 3,
   "metadata": {
    "id": "t95gTIGewZYY"
   },
   "outputs": [],
   "source": [
    "class ChemProtDataset:\n",
    "    def __init__(self, tokenizer, sentence, label, max_len, subj, obj):\n",
    "        self.sentence = sentence\n",
    "        self.subj = subj\n",
    "        self.obj = obj\n",
    "        self.label = label\n",
    "        \n",
    "        self.tokenizer = tokenizer\n",
    "        self.max_len = max_len\n",
    "    \n",
    "    def __len__(self):\n",
    "        return len(self.sentence)\n",
    "        \n",
    "    def __getitem__(self, item):\n",
    "        sentence = str(self.sentence[item])\n",
    "        subj = str(self.subj[item])\n",
    "        obj = str(self.obj[item])\n",
    "\n",
    "        inputs = self.tokenizer.encode_plus(\n",
    "            sentence,\n",
    "            subj + \" \" + obj,\n",
    "            add_special_tokens=True,\n",
    "            max_length=self.max_len,\n",
    "            padding='max_length'\n",
    "        )\n",
    "        \n",
    "        ids = inputs['input_ids']\n",
    "        token_type_ids = inputs['token_type_ids']\n",
    "        mask = inputs['attention_mask']\n",
    "\n",
    "        return {\n",
    "            'ids': torch.tensor(ids, dtype=torch.long),\n",
    "            'mask': torch.tensor(mask, dtype=torch.long),\n",
    "            'token_type_ids': torch.tensor(token_type_ids, dtype=torch.long),\n",
    "            'label': torch.tensor(self.label[item], dtype=torch.long),\n",
    "\n",
    "        } \n",
    "    \n",
    "class REModel(nn.Module):\n",
    "    def __init__(self, model_path):\n",
    "        super(REModel, self).__init__()\n",
    "        self.bert = transformers.BertModel.from_pretrained(model_path)\n",
    "        self.hidden_size = 768\n",
    "        self.out = nn.Linear(self.hidden_size, 5)\n",
    "        self.softmax = nn.Softmax(dim=1)    \n",
    "\n",
    "            \n",
    "    def forward(self, ids, mask):\n",
    "        _, outputs = self.bert(ids, attention_mask=mask, return_dict=False)\n",
    "        return self.softmax(outputs)\n",
    "    \n",
    "    \n",
    "def loss_fn(outputs, targets):\n",
    "    return nn.CrossEntropyLoss()(outputs, targets)\n",
    "\n",
    "\n",
    "def train_loop_fn(data_loader, model, optimizer, device, scheduler=None):\n",
    "    model.train()\n",
    "    for bi, d in enumerate(data_loader):\n",
    "        ids = d['ids']\n",
    "        mask = d['mask']\n",
    "        #token_type_ids = d['token_type_ids']\n",
    "        label = d['label']\n",
    "\n",
    "        ids = ids.to(device, dtype=torch.long)\n",
    "        mask = mask.to(device, dtype=torch.long)\n",
    "        #token_type_ids = token_type_ids.to(device, dtype=torch.long)\n",
    "        label = label.to(device, dtype=torch.long)\n",
    "\n",
    "        optimizer.zero_grad()\n",
    "        outputs = model(ids, mask)\n",
    "\n",
    "        loss = loss_fn(outputs, label)\n",
    "        loss.backward()\n",
    "        optimizer.step()\n",
    "        if scheduler is not None:\n",
    "            scheduler.step()\n",
    "        if bi % 50 == 0:\n",
    "            print(f'bi={bi}, loss={loss}')\n",
    "\n",
    "\n",
    "def eval_loop_fn(data_loader, model, device):\n",
    "    model.eval()\n",
    "    fin_labels = []\n",
    "    fin_outputs = []\n",
    "    for bi, d in enumerate(data_loader):\n",
    "        with torch.no_grad():\n",
    "            ids = d['ids'].to(device, dtype=torch.long)\n",
    "            mask = d['mask'].to(device, dtype=torch.long)\n",
    "            token_type_ids = d['token_type_ids'].to(device, dtype=torch.long)\n",
    "            label = d['label'].to(device, dtype=torch.long)\n",
    "          \n",
    "            outputs = model(ids, mask)\n",
    "          \n",
    "            fin_labels.append(label.cpu().detach().numpy())\n",
    "            fin_outputs.append(outputs.cpu().detach().numpy())\n",
    "\n",
    "    return np.vstack(fin_outputs), np.hstack(fin_labels)\n",
    "\n",
    "\n",
    "def read_data(path):\n",
    "    with open(path) as f:\n",
    "        result = []\n",
    "        for line in f:\n",
    "            res = json.loads(line)\n",
    "            text = res['text']\n",
    "            subj = text[text.find(\"<<\")+2:text.find(\">>\")]\n",
    "            obj = text[text.find(\"[[\")+12:text.find(\"]]\")]\n",
    "            \n",
    "            res['subj'], res['obj'] = subj, obj\n",
    "            res['label'] = LABEL_DICT[res['label']]\n",
    "            result.append(res)\n",
    "    return pd.DataFrame(result)"
   ]
  },
  {
   "cell_type": "code",
   "execution_count": 4,
   "metadata": {
    "colab": {
     "base_uri": "https://localhost:8080/"
    },
    "id": "XFpuqTvNwZYe",
    "outputId": "a9feac09-e954-4442-deb0-a497634108a1",
    "tags": []
   },
   "outputs": [
    {
     "data": {
      "application/vnd.jupyter.widget-view+json": {
       "model_id": "d18a3b0e8a454a50925d378ad16809ef",
       "version_major": 2,
       "version_minor": 0
      },
      "text/plain": [
       "Downloading:   0%|          | 0.00/226k [00:00<?, ?B/s]"
      ]
     },
     "metadata": {},
     "output_type": "display_data"
    },
    {
     "data": {
      "application/vnd.jupyter.widget-view+json": {
       "model_id": "25854738635b43f3bab49a2957243a12",
       "version_major": 2,
       "version_minor": 0
      },
      "text/plain": [
       "Downloading:   0%|          | 0.00/28.0 [00:00<?, ?B/s]"
      ]
     },
     "metadata": {},
     "output_type": "display_data"
    },
    {
     "data": {
      "application/vnd.jupyter.widget-view+json": {
       "model_id": "a8d078f9818d430595cc0549eca6479a",
       "version_major": 2,
       "version_minor": 0
      },
      "text/plain": [
       "Downloading:   0%|          | 0.00/570 [00:00<?, ?B/s]"
      ]
     },
     "metadata": {},
     "output_type": "display_data"
    },
    {
     "data": {
      "application/vnd.jupyter.widget-view+json": {
       "model_id": "3cb435f6b40941ff9003b4d56bbf43dd",
       "version_major": 2,
       "version_minor": 0
      },
      "text/plain": [
       "Downloading:   0%|          | 0.00/420M [00:00<?, ?B/s]"
      ]
     },
     "metadata": {},
     "output_type": "display_data"
    },
    {
     "name": "stderr",
     "output_type": "stream",
     "text": [
      "Some weights of the model checkpoint at bert-base-uncased were not used when initializing BertModel: ['cls.predictions.bias', 'cls.seq_relationship.weight', 'cls.predictions.transform.dense.weight', 'cls.predictions.transform.dense.bias', 'cls.seq_relationship.bias', 'cls.predictions.transform.LayerNorm.weight', 'cls.predictions.transform.LayerNorm.bias', 'cls.predictions.decoder.weight']\n",
      "- This IS expected if you are initializing BertModel from the checkpoint of a model trained on another task or with another architecture (e.g. initializing a BertForSequenceClassification model from a BertForPreTraining model).\n",
      "- This IS NOT expected if you are initializing BertModel from the checkpoint of a model that you expect to be exactly identical (initializing a BertForSequenceClassification model from a BertForSequenceClassification model).\n"
     ]
    },
    {
     "name": "stdout",
     "output_type": "stream",
     "text": [
      "Using these GPUs: [0, 1, 2, 3, 4, 5, 6, 7], with this model: bert-base-uncased\n",
      "bi=0, loss=6.644034385681152\n",
      "bi=50, loss=6.639397144317627\n",
      "bi=0, loss=6.638356685638428\n",
      "bi=50, loss=6.636747360229492\n",
      "bi=0, loss=6.636565685272217\n",
      "bi=50, loss=6.636210918426514\n",
      "bi=0, loss=6.636209011077881\n",
      "bi=50, loss=6.636039733886719\n",
      "bi=0, loss=6.636013031005859\n",
      "bi=50, loss=6.635954856872559\n",
      "bi=0, loss=6.635944366455078\n",
      "bi=50, loss=6.635910987854004\n",
      "bi=0, loss=6.635923862457275\n",
      "bi=50, loss=6.635875225067139\n",
      "bi=0, loss=6.635883808135986\n",
      "bi=50, loss=6.635865211486816\n",
      "bi=0, loss=6.635855674743652\n",
      "bi=50, loss=6.6358513832092285\n",
      "bi=0, loss=6.635845184326172\n",
      "bi=50, loss=6.635842323303223\n",
      "bi=0, loss=6.63584041595459\n",
      "bi=50, loss=6.635795593261719\n",
      "bi=0, loss=6.635793685913086\n",
      "bi=50, loss=6.635772228240967\n",
      "bi=0, loss=6.6357855796813965\n",
      "bi=50, loss=6.635782241821289\n",
      "bi=0, loss=6.63577127456665\n",
      "bi=50, loss=6.635758876800537\n",
      "bi=0, loss=6.635778903961182\n",
      "bi=50, loss=6.635756015777588\n",
      "bi=0, loss=6.63576078414917\n",
      "bi=50, loss=6.635753154754639\n",
      "bi=0, loss=6.63575553894043\n",
      "bi=50, loss=6.635750770568848\n",
      "bi=0, loss=6.635753631591797\n",
      "bi=50, loss=6.635754585266113\n",
      "bi=0, loss=6.635758399963379\n",
      "bi=50, loss=6.635749816894531\n",
      "bi=0, loss=6.635745525360107\n",
      "bi=50, loss=6.635746002197266\n",
      "bi=0, loss=6.635735511779785\n",
      "bi=50, loss=6.635743618011475\n",
      "bi=0, loss=6.635754108428955\n",
      "bi=50, loss=6.635747909545898\n",
      "bi=0, loss=6.63574743270874\n",
      "bi=50, loss=6.635748386383057\n",
      "bi=0, loss=6.635738849639893\n",
      "bi=50, loss=6.635760307312012\n"
     ]
    }
   ],
   "source": [
    "LABEL_DICT = {'UPREGULATOR': 0, 'ACTIVATOR': 0, 'INDIRECT-UPREGULATOR': 0,\n",
    "              'DOWNREGULATOR': 1, 'INHIBITOR': 1, 'INDIRECT-DOWNREGULATOR': 1,\n",
    "              'AGONIST': 2,'AGONIST-ACTIVATOR': 2,'AGONIST-INHIBITOR': 2,\n",
    "              'ANTAGONIST': 3, 'SUBSTRATE': 4, 'PRODUCT-OF': 4, 'SUBSTRATE_PRODUCT-OF': 4}\n",
    "MAX_LEN = 512\n",
    "TRAIN_BATCH_SIZE = 64\n",
    "EPOCHS = 24\n",
    "SEED = 20\n",
    "LEARNING_RATE = 3e-5\n",
    "device = torch.device('cuda' if torch.cuda.is_available() else 'cpu')\n",
    "\n",
    "model_path = 'bert-base-uncased'\n",
    "tokenizer = transformers.BertTokenizer.from_pretrained('bert-base-uncased')\n",
    "model = REModel(model_path)\n",
    "model = DataParallel(model)\n",
    "model.to(device)\n",
    "print(f'Using these GPUs: {model.device_ids}, with this model: {model_path}')\n",
    "\n",
    "df_train = read_data('./RE_data/chemprot/train.txt')\n",
    "df_test = read_data('./RE_data/chemprot/test.txt')\n",
    "\n",
    "train_dataset = ChemProtDataset(\n",
    "    sentence=df_train.text.values,\n",
    "    label=df_train.label.values,\n",
    "    tokenizer=tokenizer,\n",
    "    max_len=MAX_LEN,\n",
    "    subj = df_train.subj.values, \n",
    "    obj = df_train.obj.values\n",
    ")\n",
    "train_data_loader = torch.utils.data.DataLoader(\n",
    "    train_dataset,\n",
    "    batch_size=TRAIN_BATCH_SIZE,\n",
    "    shuffle=True,\n",
    "    num_workers=os.cpu_count()\n",
    ")\n",
    "\n",
    "test_dataset = ChemProtDataset(\n",
    "    sentence=df_test.text.values,\n",
    "    label=df_test.label.values,\n",
    "    tokenizer=tokenizer,\n",
    "    max_len=MAX_LEN,\n",
    "    subj = df_test.subj.values, \n",
    "    obj = df_test.obj.values\n",
    ")\n",
    "test_data_loader = torch.utils.data.DataLoader(\n",
    "    test_dataset,\n",
    "    batch_size=4,\n",
    "    shuffle=True,\n",
    "    drop_last=False,\n",
    "    num_workers=os.cpu_count()\n",
    ")\n",
    "\n",
    "optimizer = torch.optim.AdamW(model.parameters(), lr=LEARNING_RATE)\n",
    "num_training_steps = int(len(df_train) / TRAIN_BATCH_SIZE * EPOCHS)\n",
    "scheduler = get_linear_schedule_with_warmup(\n",
    "    optimizer, \n",
    "    num_warmup_steps=0,\n",
    "    num_training_steps=num_training_steps\n",
    ")\n",
    "\n",
    "\n",
    "for epoch in range(EPOCHS):\n",
    "    train_loop_fn(train_data_loader, model, optimizer, device, scheduler)\n",
    "outputs, labels = eval_loop_fn(test_data_loader, model, device)"
   ]
  },
  {
   "cell_type": "code",
   "execution_count": 5,
   "metadata": {
    "colab": {
     "base_uri": "https://localhost:8080/"
    },
    "id": "oPTHrG9VwZYg",
    "outputId": "5af34fad-2d63-4ed4-e65f-52c65fb225d5"
   },
   "outputs": [
    {
     "data": {
      "text/plain": [
       "0.5260882098587489"
      ]
     },
     "execution_count": 5,
     "metadata": {},
     "output_type": "execute_result"
    }
   ],
   "source": [
    "from sklearn.metrics import f1_score, classification_report\n",
    "f1_score(np.argmax(outputs, axis=1), labels, average='micro')"
   ]
  },
  {
   "cell_type": "code",
   "execution_count": 6,
   "metadata": {},
   "outputs": [
    {
     "name": "stdout",
     "output_type": "stream",
     "text": [
      "              precision    recall  f1-score   support\n",
      "\n",
      "           0       0.00      0.00      0.00         0\n",
      "           1       1.00      0.51      0.67      3278\n",
      "           2       0.59      0.83      0.69       141\n",
      "           3       0.15      0.90      0.26        50\n",
      "           4       0.00      0.00      0.00         0\n",
      "\n",
      "    accuracy                           0.53      3469\n",
      "   macro avg       0.35      0.45      0.33      3469\n",
      "weighted avg       0.97      0.53      0.67      3469\n",
      "\n"
     ]
    }
   ],
   "source": [
    "print(classification_report(np.argmax(outputs, axis=1), labels, zero_division=0))"
   ]
  },
  {
   "cell_type": "code",
   "execution_count": 9,
   "metadata": {
    "id": "5ewEH3Lvjzqx"
   },
   "outputs": [],
   "source": [
    "torch.cuda.empty_cache()"
   ]
  },
  {
   "cell_type": "code",
   "execution_count": 1,
   "metadata": {
    "collapsed": true,
    "jupyter": {
     "outputs_hidden": true
    },
    "tags": []
   },
   "outputs": [
    {
     "name": "stdout",
     "output_type": "stream",
     "text": [
      "Fri Apr  8 13:49:53 2022       \n",
      "+-----------------------------------------------------------------------------+\n",
      "| NVIDIA-SMI 510.54       Driver Version: 510.54       CUDA Version: 11.6     |\n",
      "|-------------------------------+----------------------+----------------------+\n",
      "| GPU  Name        Persistence-M| Bus-Id        Disp.A | Volatile Uncorr. ECC |\n",
      "| Fan  Temp  Perf  Pwr:Usage/Cap|         Memory-Usage | GPU-Util  Compute M. |\n",
      "|                               |                      |               MIG M. |\n",
      "|===============================+======================+======================|\n",
      "|   0  Tesla V100-PCIE...  Off  | 00000001:00:00.0 Off |                  Off |\n",
      "| N/A   28C    P0    38W / 250W |      0MiB / 16384MiB |      0%      Default |\n",
      "|                               |                      |                  N/A |\n",
      "+-------------------------------+----------------------+----------------------+\n",
      "|   1  Tesla V100-PCIE...  Off  | 00000002:00:00.0 Off |                  Off |\n",
      "| N/A   28C    P0    36W / 250W |      0MiB / 16384MiB |      2%      Default |\n",
      "|                               |                      |                  N/A |\n",
      "+-------------------------------+----------------------+----------------------+\n",
      "                                                                               \n",
      "+-----------------------------------------------------------------------------+\n",
      "| Processes:                                                                  |\n",
      "|  GPU   GI   CI        PID   Type   Process name                  GPU Memory |\n",
      "|        ID   ID                                                   Usage      |\n",
      "|=============================================================================|\n",
      "|  No running processes found                                                 |\n",
      "+-----------------------------------------------------------------------------+\n"
     ]
    }
   ],
   "source": [
    "!nvidia-smi"
   ]
  },
  {
   "cell_type": "code",
   "execution_count": 24,
   "metadata": {},
   "outputs": [],
   "source": [
    "labels = [test_dataset[i]['label'].detach().cpu().tolist() for i in range(len(test_dataset))]"
   ]
  },
  {
   "cell_type": "code",
   "execution_count": 11,
   "metadata": {},
   "outputs": [
    {
     "data": {
      "text/plain": [
       "1    1667\n",
       "0     667\n",
       "4     644\n",
       "3     293\n",
       "2     198\n",
       "dtype: int64"
      ]
     },
     "execution_count": 11,
     "metadata": {},
     "output_type": "execute_result"
    }
   ],
   "source": [
    "pd.Series(labels).value_counts()"
   ]
  },
  {
   "cell_type": "code",
   "execution_count": 14,
   "metadata": {},
   "outputs": [
    {
     "data": {
      "text/plain": [
       "1    3462\n",
       "2       7\n",
       "dtype: int64"
      ]
     },
     "execution_count": 14,
     "metadata": {},
     "output_type": "execute_result"
    }
   ],
   "source": [
    "pd.Series(np.argmax(outputs, axis=1)).value_counts()"
   ]
  },
  {
   "cell_type": "code",
   "execution_count": 29,
   "metadata": {},
   "outputs": [
    {
     "data": {
      "text/plain": [
       "dict_keys(['ids', 'mask', 'token_type_ids', 'label'])"
      ]
     },
     "execution_count": 29,
     "metadata": {},
     "output_type": "execute_result"
    }
   ],
   "source": [
    "test_dataset[0].keys()"
   ]
  },
  {
   "cell_type": "code",
   "execution_count": 5,
   "metadata": {},
   "outputs": [],
   "source": [
    "tok = BertTokenizer.from_pretrained('bert-base-uncased')"
   ]
  },
  {
   "cell_type": "code",
   "execution_count": null,
   "metadata": {},
   "outputs": [],
   "source": [
    "tok.encode_plus("
   ]
  }
 ],
 "metadata": {
  "accelerator": "GPU",
  "colab": {
   "name": "finetuning_RE.ipynb",
   "provenance": []
  },
  "kernelspec": {
   "display_name": "py38_pytorch",
   "language": "python",
   "name": "conda-env-py38_pytorch-py"
  },
  "language_info": {
   "codemirror_mode": {
    "name": "ipython",
    "version": 3
   },
   "file_extension": ".py",
   "mimetype": "text/x-python",
   "name": "python",
   "nbconvert_exporter": "python",
   "pygments_lexer": "ipython3",
   "version": "3.8.12"
  }
 },
 "nbformat": 4,
 "nbformat_minor": 4
}
